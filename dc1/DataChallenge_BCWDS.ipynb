{
 "cells": [
  {
   "cell_type": "markdown",
   "metadata": {},
   "source": [
    "# Data challenge for Breast Cancer Wisconsin (Original) Data Set\n",
    "## 1. Introduction\n",
    "In this report, I analyze the breast cancer data set collected by University of Wisconsin and try to predict if a cell sample is benign (not cancerous) or malignant (cancerous). The model used in this report is logistic regression model and all 9 features in the data set are applied. The prediction accuracy is ~96%."
   ]
  },
  {
   "cell_type": "markdown",
   "metadata": {},
   "source": [
    "## 2. EDA\n",
    "In this part, I load the data and show some exploratory data analysis before we build the model.\n",
    "The data file I used here is directly download from UCI machine learning repository and it is not a CSV file with column headers. Here I manually assign the column names to the dataframe."
   ]
  },
  {
   "cell_type": "code",
   "execution_count": 1,
   "metadata": {},
   "outputs": [],
   "source": [
    "import pandas as pd\n",
    "import numpy as np\n",
    "import seaborn as sns\n",
    "import matplotlib.pyplot as plt\n",
    "import tensorflow as tf"
   ]
  },
  {
   "cell_type": "code",
   "execution_count": 2,
   "metadata": {},
   "outputs": [],
   "source": [
    "# from the data source I get the name of 9 features\n",
    "data = pd.read_csv('breast-cancer-wisconsin.data', sep=\",\", header=None)\n",
    "data.columns = [\"id\", x,\"Class\"]"
   ]
  },
  {
   "cell_type": "markdown",
   "metadata": {},
   "source": [
    "Let's check some basic information of this dataframe, first 5 rows are showed here."
   ]
  },
  {
   "cell_type": "code",
   "execution_count": 3,
   "metadata": {},
   "outputs": [
    {
     "data": {
      "text/html": [
       "<div>\n",
       "<style scoped>\n",
       "    .dataframe tbody tr th:only-of-type {\n",
       "        vertical-align: middle;\n",
       "    }\n",
       "\n",
       "    .dataframe tbody tr th {\n",
       "        vertical-align: top;\n",
       "    }\n",
       "\n",
       "    .dataframe thead th {\n",
       "        text-align: right;\n",
       "    }\n",
       "</style>\n",
       "<table border=\"1\" class=\"dataframe\">\n",
       "  <thead>\n",
       "    <tr style=\"text-align: right;\">\n",
       "      <th></th>\n",
       "      <th>id</th>\n",
       "      <th>Clump Thickness</th>\n",
       "      <th>Uniformity of Cell Size</th>\n",
       "      <th>Uniformity of Cell Shape</th>\n",
       "      <th>Marginal Adhesion</th>\n",
       "      <th>Single Epithelial Cell Size</th>\n",
       "      <th>Bare Nuclei</th>\n",
       "      <th>Bland Chromatin</th>\n",
       "      <th>Normal Nucleoli</th>\n",
       "      <th>Mitoses</th>\n",
       "      <th>Class</th>\n",
       "    </tr>\n",
       "  </thead>\n",
       "  <tbody>\n",
       "    <tr>\n",
       "      <th>0</th>\n",
       "      <td>1000025</td>\n",
       "      <td>5</td>\n",
       "      <td>1</td>\n",
       "      <td>1</td>\n",
       "      <td>1</td>\n",
       "      <td>2</td>\n",
       "      <td>1</td>\n",
       "      <td>3</td>\n",
       "      <td>1</td>\n",
       "      <td>1</td>\n",
       "      <td>2</td>\n",
       "    </tr>\n",
       "    <tr>\n",
       "      <th>1</th>\n",
       "      <td>1002945</td>\n",
       "      <td>5</td>\n",
       "      <td>4</td>\n",
       "      <td>4</td>\n",
       "      <td>5</td>\n",
       "      <td>7</td>\n",
       "      <td>10</td>\n",
       "      <td>3</td>\n",
       "      <td>2</td>\n",
       "      <td>1</td>\n",
       "      <td>2</td>\n",
       "    </tr>\n",
       "    <tr>\n",
       "      <th>2</th>\n",
       "      <td>1015425</td>\n",
       "      <td>3</td>\n",
       "      <td>1</td>\n",
       "      <td>1</td>\n",
       "      <td>1</td>\n",
       "      <td>2</td>\n",
       "      <td>2</td>\n",
       "      <td>3</td>\n",
       "      <td>1</td>\n",
       "      <td>1</td>\n",
       "      <td>2</td>\n",
       "    </tr>\n",
       "    <tr>\n",
       "      <th>3</th>\n",
       "      <td>1016277</td>\n",
       "      <td>6</td>\n",
       "      <td>8</td>\n",
       "      <td>8</td>\n",
       "      <td>1</td>\n",
       "      <td>3</td>\n",
       "      <td>4</td>\n",
       "      <td>3</td>\n",
       "      <td>7</td>\n",
       "      <td>1</td>\n",
       "      <td>2</td>\n",
       "    </tr>\n",
       "    <tr>\n",
       "      <th>4</th>\n",
       "      <td>1017023</td>\n",
       "      <td>4</td>\n",
       "      <td>1</td>\n",
       "      <td>1</td>\n",
       "      <td>3</td>\n",
       "      <td>2</td>\n",
       "      <td>1</td>\n",
       "      <td>3</td>\n",
       "      <td>1</td>\n",
       "      <td>1</td>\n",
       "      <td>2</td>\n",
       "    </tr>\n",
       "  </tbody>\n",
       "</table>\n",
       "</div>"
      ],
      "text/plain": [
       "        id  Clump Thickness  Uniformity of Cell Size  \\\n",
       "0  1000025                5                        1   \n",
       "1  1002945                5                        4   \n",
       "2  1015425                3                        1   \n",
       "3  1016277                6                        8   \n",
       "4  1017023                4                        1   \n",
       "\n",
       "   Uniformity of Cell Shape  Marginal Adhesion  Single Epithelial Cell Size  \\\n",
       "0                         1                  1                            2   \n",
       "1                         4                  5                            7   \n",
       "2                         1                  1                            2   \n",
       "3                         8                  1                            3   \n",
       "4                         1                  3                            2   \n",
       "\n",
       "  Bare Nuclei  Bland Chromatin  Normal Nucleoli  Mitoses  Class  \n",
       "0           1                3                1        1      2  \n",
       "1          10                3                2        1      2  \n",
       "2           2                3                1        1      2  \n",
       "3           4                3                7        1      2  \n",
       "4           1                3                1        1      2  "
      ]
     },
     "execution_count": 3,
     "metadata": {},
     "output_type": "execute_result"
    }
   ],
   "source": [
    "data.head()"
   ]
  },
  {
   "cell_type": "code",
   "execution_count": 4,
   "metadata": {},
   "outputs": [
    {
     "data": {
      "text/plain": [
       "699"
      ]
     },
     "execution_count": 4,
     "metadata": {},
     "output_type": "execute_result"
    }
   ],
   "source": [
    "len(data)"
   ]
  },
  {
   "cell_type": "markdown",
   "metadata": {},
   "source": [
    "From the data description, I already know that there are some missing data with \"?\". So now I want to check how many of them are missing and remove them. At first I replace all \"?\" with NAN and use isnull to check."
   ]
  },
  {
   "cell_type": "code",
   "execution_count": 5,
   "metadata": {},
   "outputs": [],
   "source": [
    "data_clean = data.replace({'?':np.nan})"
   ]
  },
  {
   "cell_type": "code",
   "execution_count": 6,
   "metadata": {},
   "outputs": [
    {
     "data": {
      "text/plain": [
       "id                              0\n",
       "Clump Thickness                 0\n",
       "Uniformity of Cell Size         0\n",
       "Uniformity of Cell Shape        0\n",
       "Marginal Adhesion               0\n",
       "Single Epithelial Cell Size     0\n",
       "Bare Nuclei                    16\n",
       "Bland Chromatin                 0\n",
       "Normal Nucleoli                 0\n",
       "Mitoses                         0\n",
       "Class                           0\n",
       "dtype: int64"
      ]
     },
     "execution_count": 6,
     "metadata": {},
     "output_type": "execute_result"
    }
   ],
   "source": [
    "missing_values_count = data_clean.isnull().sum()\n",
    "missing_values_count"
   ]
  },
  {
   "cell_type": "markdown",
   "metadata": {},
   "source": [
    "All missing data comes from the column of \"Bare Nuclei\". Only 16 instances have missing information so I simply remove them.\n",
    "\n",
    "Here I show you an example that how the data with \"?\" is removed. For example, id = 1057013 has a \"?\" at Bare Nuclei"
   ]
  },
  {
   "cell_type": "code",
   "execution_count": 7,
   "metadata": {},
   "outputs": [],
   "source": [
    "data_clean2 = data.replace({\"?\":np.nan}).dropna()"
   ]
  },
  {
   "cell_type": "code",
   "execution_count": 8,
   "metadata": {},
   "outputs": [
    {
     "data": {
      "text/html": [
       "<div>\n",
       "<style scoped>\n",
       "    .dataframe tbody tr th:only-of-type {\n",
       "        vertical-align: middle;\n",
       "    }\n",
       "\n",
       "    .dataframe tbody tr th {\n",
       "        vertical-align: top;\n",
       "    }\n",
       "\n",
       "    .dataframe thead th {\n",
       "        text-align: right;\n",
       "    }\n",
       "</style>\n",
       "<table border=\"1\" class=\"dataframe\">\n",
       "  <thead>\n",
       "    <tr style=\"text-align: right;\">\n",
       "      <th></th>\n",
       "      <th>id</th>\n",
       "      <th>Clump Thickness</th>\n",
       "      <th>Uniformity of Cell Size</th>\n",
       "      <th>Uniformity of Cell Shape</th>\n",
       "      <th>Marginal Adhesion</th>\n",
       "      <th>Single Epithelial Cell Size</th>\n",
       "      <th>Bare Nuclei</th>\n",
       "      <th>Bland Chromatin</th>\n",
       "      <th>Normal Nucleoli</th>\n",
       "      <th>Mitoses</th>\n",
       "      <th>Class</th>\n",
       "    </tr>\n",
       "  </thead>\n",
       "  <tbody>\n",
       "    <tr>\n",
       "      <th>23</th>\n",
       "      <td>1057013</td>\n",
       "      <td>8</td>\n",
       "      <td>4</td>\n",
       "      <td>5</td>\n",
       "      <td>1</td>\n",
       "      <td>2</td>\n",
       "      <td>?</td>\n",
       "      <td>7</td>\n",
       "      <td>3</td>\n",
       "      <td>1</td>\n",
       "      <td>4</td>\n",
       "    </tr>\n",
       "  </tbody>\n",
       "</table>\n",
       "</div>"
      ],
      "text/plain": [
       "         id  Clump Thickness  Uniformity of Cell Size  \\\n",
       "23  1057013                8                        4   \n",
       "\n",
       "    Uniformity of Cell Shape  Marginal Adhesion  Single Epithelial Cell Size  \\\n",
       "23                         5                  1                            2   \n",
       "\n",
       "   Bare Nuclei  Bland Chromatin  Normal Nucleoli  Mitoses  Class  \n",
       "23           ?                7                3        1      4  "
      ]
     },
     "execution_count": 8,
     "metadata": {},
     "output_type": "execute_result"
    }
   ],
   "source": [
    "data.loc[data[\"id\"] == 1057013]"
   ]
  },
  {
   "cell_type": "code",
   "execution_count": 9,
   "metadata": {},
   "outputs": [
    {
     "data": {
      "text/html": [
       "<div>\n",
       "<style scoped>\n",
       "    .dataframe tbody tr th:only-of-type {\n",
       "        vertical-align: middle;\n",
       "    }\n",
       "\n",
       "    .dataframe tbody tr th {\n",
       "        vertical-align: top;\n",
       "    }\n",
       "\n",
       "    .dataframe thead th {\n",
       "        text-align: right;\n",
       "    }\n",
       "</style>\n",
       "<table border=\"1\" class=\"dataframe\">\n",
       "  <thead>\n",
       "    <tr style=\"text-align: right;\">\n",
       "      <th></th>\n",
       "      <th>id</th>\n",
       "      <th>Clump Thickness</th>\n",
       "      <th>Uniformity of Cell Size</th>\n",
       "      <th>Uniformity of Cell Shape</th>\n",
       "      <th>Marginal Adhesion</th>\n",
       "      <th>Single Epithelial Cell Size</th>\n",
       "      <th>Bare Nuclei</th>\n",
       "      <th>Bland Chromatin</th>\n",
       "      <th>Normal Nucleoli</th>\n",
       "      <th>Mitoses</th>\n",
       "      <th>Class</th>\n",
       "    </tr>\n",
       "  </thead>\n",
       "  <tbody>\n",
       "    <tr>\n",
       "      <th>23</th>\n",
       "      <td>1057013</td>\n",
       "      <td>8</td>\n",
       "      <td>4</td>\n",
       "      <td>5</td>\n",
       "      <td>1</td>\n",
       "      <td>2</td>\n",
       "      <td>NaN</td>\n",
       "      <td>7</td>\n",
       "      <td>3</td>\n",
       "      <td>1</td>\n",
       "      <td>4</td>\n",
       "    </tr>\n",
       "  </tbody>\n",
       "</table>\n",
       "</div>"
      ],
      "text/plain": [
       "         id  Clump Thickness  Uniformity of Cell Size  \\\n",
       "23  1057013                8                        4   \n",
       "\n",
       "    Uniformity of Cell Shape  Marginal Adhesion  Single Epithelial Cell Size  \\\n",
       "23                         5                  1                            2   \n",
       "\n",
       "   Bare Nuclei  Bland Chromatin  Normal Nucleoli  Mitoses  Class  \n",
       "23         NaN                7                3        1      4  "
      ]
     },
     "execution_count": 9,
     "metadata": {},
     "output_type": "execute_result"
    }
   ],
   "source": [
    "data_clean.loc[data[\"id\"] == 1057013]"
   ]
  },
  {
   "cell_type": "code",
   "execution_count": 10,
   "metadata": {},
   "outputs": [
    {
     "data": {
      "text/html": [
       "<div>\n",
       "<style scoped>\n",
       "    .dataframe tbody tr th:only-of-type {\n",
       "        vertical-align: middle;\n",
       "    }\n",
       "\n",
       "    .dataframe tbody tr th {\n",
       "        vertical-align: top;\n",
       "    }\n",
       "\n",
       "    .dataframe thead th {\n",
       "        text-align: right;\n",
       "    }\n",
       "</style>\n",
       "<table border=\"1\" class=\"dataframe\">\n",
       "  <thead>\n",
       "    <tr style=\"text-align: right;\">\n",
       "      <th></th>\n",
       "      <th>id</th>\n",
       "      <th>Clump Thickness</th>\n",
       "      <th>Uniformity of Cell Size</th>\n",
       "      <th>Uniformity of Cell Shape</th>\n",
       "      <th>Marginal Adhesion</th>\n",
       "      <th>Single Epithelial Cell Size</th>\n",
       "      <th>Bare Nuclei</th>\n",
       "      <th>Bland Chromatin</th>\n",
       "      <th>Normal Nucleoli</th>\n",
       "      <th>Mitoses</th>\n",
       "      <th>Class</th>\n",
       "    </tr>\n",
       "  </thead>\n",
       "  <tbody>\n",
       "  </tbody>\n",
       "</table>\n",
       "</div>"
      ],
      "text/plain": [
       "Empty DataFrame\n",
       "Columns: [id, Clump Thickness, Uniformity of Cell Size, Uniformity of Cell Shape, Marginal Adhesion, Single Epithelial Cell Size, Bare Nuclei, Bland Chromatin, Normal Nucleoli, Mitoses, Class]\n",
       "Index: []"
      ]
     },
     "execution_count": 10,
     "metadata": {},
     "output_type": "execute_result"
    }
   ],
   "source": [
    "data_clean2.loc[data[\"id\"] == 1057013]"
   ]
  },
  {
   "cell_type": "markdown",
   "metadata": {},
   "source": [
    "### Here are the information I get from the overview of data set.\n",
    "\n",
    "1) The column of \"id\" is not usefull for model. \n",
    "\n",
    "2) I also need to seperate the column \"Class\" as the labels, and change class from 2/4 to 0/1 for the coming models.\n",
    "\n",
    "3) Missing data is already removed. \n",
    "\n",
    "4) There are 9 features in the data set and they are all related with classification results so I should use all of them.\n",
    "\n",
    "All the data will be transformed to np.matrix or np.array before feeding into the model"
   ]
  },
  {
   "cell_type": "code",
   "execution_count": 11,
   "metadata": {},
   "outputs": [],
   "source": [
    "train = data_clean2.drop(columns=[\"id\",\"Class\"])"
   ]
  },
  {
   "cell_type": "code",
   "execution_count": 93,
   "metadata": {},
   "outputs": [
    {
     "data": {
      "text/plain": [
       "array([[ 5.,  1.,  1.,  1.,  2.,  1.,  3.,  1.,  1.],\n",
       "       [ 5.,  4.,  4.,  5.,  7., 10.,  3.,  2.,  1.],\n",
       "       [ 3.,  1.,  1.,  1.,  2.,  2.,  3.,  1.,  1.],\n",
       "       [ 6.,  8.,  8.,  1.,  3.,  4.,  3.,  7.,  1.],\n",
       "       [ 4.,  1.,  1.,  3.,  2.,  1.,  3.,  1.,  1.]])"
      ]
     },
     "execution_count": 93,
     "metadata": {},
     "output_type": "execute_result"
    }
   ],
   "source": [
    "train_X = train.astype(float).values\n",
    "train_X[0:5,:]"
   ]
  },
  {
   "cell_type": "code",
   "execution_count": 13,
   "metadata": {},
   "outputs": [],
   "source": [
    "classes = data_clean2[\"Class\"]"
   ]
  },
  {
   "cell_type": "code",
   "execution_count": 14,
   "metadata": {},
   "outputs": [
    {
     "data": {
      "text/plain": [
       "0      2\n",
       "1      2\n",
       "2      2\n",
       "3      2\n",
       "4      2\n",
       "5      4\n",
       "6      2\n",
       "7      2\n",
       "8      2\n",
       "9      2\n",
       "10     2\n",
       "11     2\n",
       "12     4\n",
       "13     2\n",
       "14     4\n",
       "15     4\n",
       "16     2\n",
       "17     2\n",
       "18     4\n",
       "19     2\n",
       "20     4\n",
       "21     4\n",
       "22     2\n",
       "24     2\n",
       "25     4\n",
       "26     2\n",
       "27     2\n",
       "28     2\n",
       "29     2\n",
       "30     2\n",
       "      ..\n",
       "669    4\n",
       "670    4\n",
       "671    2\n",
       "672    2\n",
       "673    2\n",
       "674    2\n",
       "675    2\n",
       "676    2\n",
       "677    2\n",
       "678    2\n",
       "679    2\n",
       "680    4\n",
       "681    4\n",
       "682    2\n",
       "683    2\n",
       "684    2\n",
       "685    2\n",
       "686    2\n",
       "687    2\n",
       "688    2\n",
       "689    2\n",
       "690    2\n",
       "691    4\n",
       "692    2\n",
       "693    2\n",
       "694    2\n",
       "695    2\n",
       "696    4\n",
       "697    4\n",
       "698    4\n",
       "Name: Class, Length: 683, dtype: int64"
      ]
     },
     "execution_count": 14,
     "metadata": {},
     "output_type": "execute_result"
    }
   ],
   "source": [
    "classes"
   ]
  },
  {
   "cell_type": "code",
   "execution_count": 15,
   "metadata": {},
   "outputs": [],
   "source": [
    "labels = classes.replace({2:0,4:1})"
   ]
  },
  {
   "cell_type": "code",
   "execution_count": 16,
   "metadata": {},
   "outputs": [
    {
     "data": {
      "text/plain": [
       "0      0\n",
       "1      0\n",
       "2      0\n",
       "3      0\n",
       "4      0\n",
       "5      1\n",
       "6      0\n",
       "7      0\n",
       "8      0\n",
       "9      0\n",
       "10     0\n",
       "11     0\n",
       "12     1\n",
       "13     0\n",
       "14     1\n",
       "15     1\n",
       "16     0\n",
       "17     0\n",
       "18     1\n",
       "19     0\n",
       "20     1\n",
       "21     1\n",
       "22     0\n",
       "24     0\n",
       "25     1\n",
       "26     0\n",
       "27     0\n",
       "28     0\n",
       "29     0\n",
       "30     0\n",
       "      ..\n",
       "669    1\n",
       "670    1\n",
       "671    0\n",
       "672    0\n",
       "673    0\n",
       "674    0\n",
       "675    0\n",
       "676    0\n",
       "677    0\n",
       "678    0\n",
       "679    0\n",
       "680    1\n",
       "681    1\n",
       "682    0\n",
       "683    0\n",
       "684    0\n",
       "685    0\n",
       "686    0\n",
       "687    0\n",
       "688    0\n",
       "689    0\n",
       "690    0\n",
       "691    1\n",
       "692    0\n",
       "693    0\n",
       "694    0\n",
       "695    0\n",
       "696    1\n",
       "697    1\n",
       "698    1\n",
       "Name: Class, Length: 683, dtype: int64"
      ]
     },
     "execution_count": 16,
     "metadata": {},
     "output_type": "execute_result"
    }
   ],
   "source": [
    "labels"
   ]
  },
  {
   "cell_type": "code",
   "execution_count": 17,
   "metadata": {},
   "outputs": [],
   "source": [
    "train_Y = labels.values"
   ]
  },
  {
   "cell_type": "code",
   "execution_count": 18,
   "metadata": {},
   "outputs": [
    {
     "data": {
      "text/plain": [
       "array([0, 0, 0, 0, 0, 1, 0, 0, 0, 0, 0, 0, 1, 0, 1, 1, 0, 0, 1, 0, 1, 1,\n",
       "       0, 0, 1, 0, 0, 0, 0, 0, 0, 1, 0, 0, 0, 1, 0, 1, 1, 1, 1, 1, 1, 0,\n",
       "       1, 0, 0, 1, 1, 1, 1, 1, 1, 1, 1, 1, 1, 1, 1, 0, 1, 1, 0, 1, 0, 1,\n",
       "       1, 0, 0, 1, 0, 1, 1, 0, 0, 0, 0, 0, 0, 0, 0, 0, 1, 1, 1, 1, 0, 0,\n",
       "       0, 0, 0, 0, 0, 0, 0, 0, 1, 1, 1, 1, 0, 1, 1, 1, 1, 1, 0, 1, 0, 1,\n",
       "       1, 1, 0, 0, 0, 1, 0, 0, 0, 0, 1, 1, 1, 0, 1, 0, 1, 0, 0, 0, 1, 0,\n",
       "       0, 0, 0, 0, 0, 0, 0, 1, 0, 0, 1, 0, 0, 1, 0, 1, 1, 0, 0, 1, 0, 0,\n",
       "       1, 1, 0, 0, 0, 0, 1, 1, 0, 0, 0, 0, 0, 1, 1, 1, 0, 1, 0, 1, 0, 0,\n",
       "       0, 1, 1, 0, 1, 1, 1, 0, 1, 1, 0, 0, 0, 0, 0, 0, 0, 0, 1, 1, 0, 0,\n",
       "       0, 1, 1, 0, 0, 0, 1, 1, 0, 1, 1, 1, 0, 0, 1, 0, 0, 1, 1, 1, 1, 0,\n",
       "       1, 1, 0, 1, 1, 1, 0, 1, 0, 1, 1, 1, 1, 0, 0, 0, 0, 0, 0, 1, 1, 0,\n",
       "       0, 1, 0, 1, 1, 1, 0, 0, 0, 0, 1, 1, 1, 1, 1, 0, 1, 1, 1, 0, 1, 0,\n",
       "       1, 1, 0, 0, 0, 0, 1, 0, 0, 1, 1, 1, 1, 1, 0, 1, 1, 0, 0, 1, 1, 0,\n",
       "       0, 1, 1, 0, 1, 0, 1, 1, 0, 0, 1, 0, 0, 0, 1, 0, 0, 1, 1, 0, 0, 1,\n",
       "       0, 1, 0, 0, 1, 0, 1, 1, 1, 0, 0, 1, 1, 0, 1, 0, 0, 1, 1, 0, 0, 0,\n",
       "       1, 0, 0, 0, 1, 1, 0, 0, 0, 1, 0, 0, 1, 1, 1, 1, 1, 1, 0, 0, 0, 0,\n",
       "       1, 1, 0, 0, 0, 0, 0, 0, 0, 0, 0, 0, 0, 0, 0, 1, 0, 0, 0, 0, 1, 0,\n",
       "       0, 0, 0, 1, 0, 0, 0, 0, 0, 0, 0, 0, 1, 0, 0, 0, 0, 0, 0, 0, 0, 0,\n",
       "       0, 1, 0, 1, 0, 1, 0, 0, 0, 0, 1, 0, 0, 0, 1, 0, 1, 0, 0, 0, 0, 0,\n",
       "       0, 0, 1, 1, 0, 0, 0, 1, 0, 0, 0, 0, 0, 0, 0, 0, 1, 0, 0, 0, 1, 0,\n",
       "       1, 1, 1, 0, 0, 0, 0, 0, 0, 0, 1, 1, 1, 0, 0, 0, 0, 0, 0, 0, 0, 0,\n",
       "       0, 0, 1, 0, 0, 1, 1, 0, 0, 0, 1, 1, 1, 0, 1, 0, 1, 0, 0, 0, 0, 0,\n",
       "       0, 0, 0, 0, 0, 0, 0, 1, 0, 0, 0, 0, 0, 0, 0, 1, 1, 0, 0, 0, 1, 0,\n",
       "       0, 1, 1, 0, 0, 0, 0, 0, 0, 1, 0, 0, 0, 0, 0, 0, 0, 0, 0, 0, 0, 0,\n",
       "       0, 0, 0, 1, 0, 0, 1, 0, 0, 0, 0, 0, 0, 0, 0, 0, 0, 0, 0, 0, 0, 0,\n",
       "       1, 0, 0, 1, 1, 1, 1, 0, 0, 1, 0, 0, 0, 0, 0, 0, 1, 1, 0, 0, 0, 1,\n",
       "       0, 1, 0, 1, 1, 1, 0, 1, 0, 0, 0, 0, 0, 0, 0, 0, 1, 1, 1, 0, 0, 1,\n",
       "       0, 1, 1, 1, 0, 0, 0, 0, 0, 0, 0, 0, 0, 0, 0, 0, 1, 0, 0, 0, 0, 0,\n",
       "       0, 1, 0, 0, 1, 0, 0, 0, 0, 0, 0, 0, 0, 0, 0, 0, 1, 0, 0, 0, 0, 0,\n",
       "       0, 0, 0, 0, 1, 0, 0, 0, 0, 0, 0, 0, 0, 0, 1, 1, 1, 0, 0, 0, 0, 0,\n",
       "       0, 0, 0, 0, 1, 1, 0, 0, 0, 0, 0, 0, 0, 0, 0, 1, 0, 0, 0, 0, 1, 1,\n",
       "       1])"
      ]
     },
     "execution_count": 18,
     "metadata": {},
     "output_type": "execute_result"
    }
   ],
   "source": [
    "train_Y"
   ]
  },
  {
   "cell_type": "markdown",
   "metadata": {},
   "source": [
    "### Visualization\n",
    "\n",
    "Here I want to check the distribution of the class and all 9 features including Clump Thickness, Uniformity of Cell Size, Uniformity of Cell Shape, Marginal Adhesion, Single Epithelial Cell Size, Bare Nuclei, Bland Chromatin, Normal Nucleoli and Mitoses"
   ]
  },
  {
   "cell_type": "code",
   "execution_count": 19,
   "metadata": {},
   "outputs": [
    {
     "data": {
      "image/png": "[encoded data removed]",
      "text/plain": [
       "<Figure size 432x288 with 1 Axes>"
      ]
     },
     "metadata": {
      "needs_background": "light"
     },
     "output_type": "display_data"
    },
    {
     "name": "stdout",
     "output_type": "stream",
     "text": [
      "0    444\n",
      "1    239\n",
      "Name: Class, dtype: int64\n"
     ]
    }
   ],
   "source": [
    "sns.countplot(labels)\n",
    "plt.show()\n",
    "print(labels.value_counts())"
   ]
  },
  {
   "cell_type": "code",
   "execution_count": 20,
   "metadata": {},
   "outputs": [
    {
     "data": {
      "image/png": "[encoded data removed]",
      "text/plain": [
       "<Figure size 432x288 with 1 Axes>"
      ]
     },
     "metadata": {
      "needs_background": "light"
     },
     "output_type": "display_data"
    },
    {
     "name": "stdout",
     "output_type": "stream",
     "text": [
      "1     139\n",
      "5     128\n",
      "3     104\n",
      "4      79\n",
      "10     69\n",
      "2      50\n",
      "8      44\n",
      "6      33\n",
      "7      23\n",
      "9      14\n",
      "Name: Clump Thickness, dtype: int64\n"
     ]
    }
   ],
   "source": [
    "sns.countplot(data_clean2.iloc[:,1])\n",
    "plt.show()\n",
    "print(data_clean2.iloc[:,1].value_counts())"
   ]
  },
  {
   "cell_type": "code",
   "execution_count": 21,
   "metadata": {},
   "outputs": [
    {
     "data": {
      "image/png": "[encoded data removed]",
      "text/plain": [
       "<Figure size 432x288 with 1 Axes>"
      ]
     },
     "metadata": {
      "needs_background": "light"
     },
     "output_type": "display_data"
    },
    {
     "name": "stdout",
     "output_type": "stream",
     "text": [
      "1     373\n",
      "10     67\n",
      "3      52\n",
      "2      45\n",
      "4      38\n",
      "5      30\n",
      "8      28\n",
      "6      25\n",
      "7      19\n",
      "9       6\n",
      "Name: Uniformity of Cell Size, dtype: int64\n"
     ]
    }
   ],
   "source": [
    "sns.countplot(data_clean2.iloc[:,2])\n",
    "plt.show()\n",
    "print(data_clean2.iloc[:,2].value_counts())"
   ]
  },
  {
   "cell_type": "code",
   "execution_count": 22,
   "metadata": {},
   "outputs": [
    {
     "data": {
      "image/png": "[encoded data removed]",
      "text/plain": [
       "<Figure size 432x288 with 1 Axes>"
      ]
     },
     "metadata": {
      "needs_background": "light"
     },
     "output_type": "display_data"
    },
    {
     "name": "stdout",
     "output_type": "stream",
     "text": [
      "1     346\n",
      "10     58\n",
      "2      58\n",
      "3      53\n",
      "4      43\n",
      "5      32\n",
      "7      30\n",
      "6      29\n",
      "8      27\n",
      "9       7\n",
      "Name: Uniformity of Cell Shape, dtype: int64\n"
     ]
    }
   ],
   "source": [
    "sns.countplot(data_clean2.iloc[:,3])\n",
    "plt.show()\n",
    "print(data_clean2.iloc[:,3].value_counts())"
   ]
  },
  {
   "cell_type": "code",
   "execution_count": 23,
   "metadata": {},
   "outputs": [
    {
     "data": {
      "image/png": "[encoded data removed]",
      "text/plain": [
       "<Figure size 432x288 with 1 Axes>"
      ]
     },
     "metadata": {
      "needs_background": "light"
     },
     "output_type": "display_data"
    },
    {
     "name": "stdout",
     "output_type": "stream",
     "text": [
      "1     393\n",
      "3      58\n",
      "2      58\n",
      "10     55\n",
      "4      33\n",
      "8      25\n",
      "5      23\n",
      "6      21\n",
      "7      13\n",
      "9       4\n",
      "Name: Marginal Adhesion, dtype: int64\n"
     ]
    }
   ],
   "source": [
    "sns.countplot(data_clean2.iloc[:,4])\n",
    "plt.show()\n",
    "print(data_clean2.iloc[:,4].value_counts())"
   ]
  },
  {
   "cell_type": "code",
   "execution_count": 24,
   "metadata": {},
   "outputs": [
    {
     "data": {
      "image/png": "[encoded data removed]",
      "text/plain": [
       "<Figure size 432x288 with 1 Axes>"
      ]
     },
     "metadata": {
      "needs_background": "light"
     },
     "output_type": "display_data"
    },
    {
     "name": "stdout",
     "output_type": "stream",
     "text": [
      "2     376\n",
      "3      71\n",
      "4      48\n",
      "1      44\n",
      "6      40\n",
      "5      39\n",
      "10     31\n",
      "8      21\n",
      "7      11\n",
      "9       2\n",
      "Name: Single Epithelial Cell Size, dtype: int64\n"
     ]
    }
   ],
   "source": [
    "sns.countplot(data_clean2.iloc[:,5])\n",
    "plt.show()\n",
    "print(data_clean2.iloc[:,5].value_counts())"
   ]
  },
  {
   "cell_type": "code",
   "execution_count": 25,
   "metadata": {},
   "outputs": [
    {
     "data": {
      "image/png": "[encoded data removed]",
      "text/plain": [
       "<Figure size 432x288 with 1 Axes>"
      ]
     },
     "metadata": {
      "needs_background": "light"
     },
     "output_type": "display_data"
    },
    {
     "name": "stdout",
     "output_type": "stream",
     "text": [
      "1     402\n",
      "10    132\n",
      "5      30\n",
      "2      30\n",
      "3      28\n",
      "8      21\n",
      "4      19\n",
      "9       9\n",
      "7       8\n",
      "6       4\n",
      "Name: Bare Nuclei, dtype: int64\n"
     ]
    }
   ],
   "source": [
    "sns.countplot(data_clean2.iloc[:,6])\n",
    "plt.show()\n",
    "print(data_clean2.iloc[:,6].value_counts())"
   ]
  },
  {
   "cell_type": "code",
   "execution_count": 26,
   "metadata": {},
   "outputs": [
    {
     "data": {
      "image/png": "[encoded data removed]",
      "text/plain": [
       "<Figure size 432x288 with 1 Axes>"
      ]
     },
     "metadata": {
      "needs_background": "light"
     },
     "output_type": "display_data"
    },
    {
     "name": "stdout",
     "output_type": "stream",
     "text": [
      "3     161\n",
      "2     160\n",
      "1     150\n",
      "7      71\n",
      "4      39\n",
      "5      34\n",
      "8      28\n",
      "10     20\n",
      "9      11\n",
      "6       9\n",
      "Name: Bland Chromatin, dtype: int64\n"
     ]
    }
   ],
   "source": [
    "sns.countplot(data_clean2.iloc[:,7])\n",
    "plt.show()\n",
    "print(data_clean2.iloc[:,7].value_counts())"
   ]
  },
  {
   "cell_type": "code",
   "execution_count": 27,
   "metadata": {},
   "outputs": [
    {
     "data": {
      "image/png": "[encoded data removed]",
      "text/plain": [
       "<Figure size 432x288 with 1 Axes>"
      ]
     },
     "metadata": {
      "needs_background": "light"
     },
     "output_type": "display_data"
    },
    {
     "name": "stdout",
     "output_type": "stream",
     "text": [
      "1     432\n",
      "10     60\n",
      "3      42\n",
      "2      36\n",
      "8      23\n",
      "6      22\n",
      "5      19\n",
      "4      18\n",
      "7      16\n",
      "9      15\n",
      "Name: Normal Nucleoli, dtype: int64\n"
     ]
    }
   ],
   "source": [
    "sns.countplot(data_clean2.iloc[:,8])\n",
    "plt.show()\n",
    "print(data_clean2.iloc[:,8].value_counts())"
   ]
  },
  {
   "cell_type": "code",
   "execution_count": 28,
   "metadata": {},
   "outputs": [
    {
     "data": {
      "image/png": "[encoded data removed]",
      "text/plain": [
       "<Figure size 432x288 with 1 Axes>"
      ]
     },
     "metadata": {
      "needs_background": "light"
     },
     "output_type": "display_data"
    },
    {
     "name": "stdout",
     "output_type": "stream",
     "text": [
      "1     563\n",
      "2      35\n",
      "3      33\n",
      "10     14\n",
      "4      12\n",
      "7       9\n",
      "8       8\n",
      "5       6\n",
      "6       3\n",
      "Name: Mitoses, dtype: int64\n"
     ]
    }
   ],
   "source": [
    "sns.countplot(data_clean2.iloc[:,9])\n",
    "plt.show()\n",
    "print(data_clean2.iloc[:,9].value_counts())"
   ]
  },
  {
   "cell_type": "markdown",
   "metadata": {},
   "source": [
    "### violin plot\n",
    "A violin shows the distribution of data at each features for both two classes."
   ]
  },
  {
   "cell_type": "code",
   "execution_count": 29,
   "metadata": {},
   "outputs": [
    {
     "data": {
      "text/plain": [
       "(array([0, 1, 2, 3, 4, 5, 6, 7, 8]), <a list of 9 Text xticklabel objects>)"
      ]
     },
     "execution_count": 29,
     "metadata": {},
     "output_type": "execute_result"
    },
    {
     "data": {
      "image/png": "[encoded data removed]",
      "text/plain": [
       "<Figure size 720x720 with 1 Axes>"
      ]
     },
     "metadata": {
      "needs_background": "light"
     },
     "output_type": "display_data"
    }
   ],
   "source": [
    "# first ten features\n",
    "data = train.astype(float)\n",
    "#data_n_2 = (data - data.mean()) / (data.std())              # standardization\n",
    "data = pd.concat([labels,data],axis=1)\n",
    "data = pd.melt(data,id_vars=\"Class\",\n",
    "                    var_name=\"features\",\n",
    "                    value_name='value')\n",
    "plt.figure(figsize=(10,10))\n",
    "sns.violinplot(x=\"features\", y=\"value\", hue=\"Class\", data=data,split=True, inner=\"quart\")\n",
    "plt.xticks(rotation=90)"
   ]
  },
  {
   "cell_type": "markdown",
   "metadata": {},
   "source": [
    "From this plot, I can get some rough ideas about the features in the classification model if I need to select the features (or I can know which features may be more important if I use them all). The distribution of Clump Thickness and Bare Nuclei showed largest difference between two categories. "
   ]
  },
  {
   "cell_type": "markdown",
   "metadata": {},
   "source": [
    "I also try to make a swarm plot here. In the swam plot, it looks like all features have a different distribution between two categories."
   ]
  },
  {
   "cell_type": "code",
   "execution_count": 30,
   "metadata": {},
   "outputs": [
    {
     "data": {
      "text/plain": [
       "(array([0, 1, 2, 3, 4, 5, 6, 7, 8]), <a list of 9 Text xticklabel objects>)"
      ]
     },
     "execution_count": 30,
     "metadata": {},
     "output_type": "execute_result"
    },
    {
     "data": {
      "image/png": "[encoded data removed]",
      "text/plain": [
       "<Figure size 720x720 with 1 Axes>"
      ]
     },
     "metadata": {
      "needs_background": "light"
     },
     "output_type": "display_data"
    }
   ],
   "source": [
    "data = train.astype(float)\n",
    "data = pd.concat([labels,data],axis=1)\n",
    "data = pd.melt(data,id_vars=\"Class\",\n",
    "                    var_name=\"features\",\n",
    "                    value_name='value')\n",
    "plt.figure(figsize=(10,10))\n",
    "sns.swarmplot(x=\"features\", y=\"value\", hue=\"Class\", data=data)\n",
    "\n",
    "plt.xticks(rotation=90)"
   ]
  },
  {
   "cell_type": "markdown",
   "metadata": {},
   "source": [
    "### Check the correlation of two features\n",
    "As a data scientit who has no medical background, I may naively think \"Uniformity of Cell Size\" and \"Uniformity of Cell Shape\" are correlated with each other since they show similar distribution in previous figure. So let me check if it is true."
   ]
  },
  {
   "cell_type": "code",
   "execution_count": 31,
   "metadata": {},
   "outputs": [
    {
     "data": {
      "text/plain": [
       "<seaborn.axisgrid.JointGrid at 0x13240b0f0>"
      ]
     },
     "execution_count": 31,
     "metadata": {},
     "output_type": "execute_result"
    },
    {
     "data": {
      "image/png": "[encoded data removed]",
      "text/plain": [
       "<Figure size 432x432 with 3 Axes>"
      ]
     },
     "metadata": {
      "needs_background": "light"
     },
     "output_type": "display_data"
    }
   ],
   "source": [
    "sns.jointplot(train.loc[:,'Uniformity of Cell Size'], train.loc[:,'Uniformity of Cell Shape'], kind=\"regg\")"
   ]
  },
  {
   "cell_type": "markdown",
   "metadata": {},
   "source": [
    "OK. It looks like they are not correlated with each other. This convince me again that I should use all 9 features in my model."
   ]
  },
  {
   "cell_type": "markdown",
   "metadata": {},
   "source": [
    "## 2. Logistic Model\n",
    "Now I would like to build a logistic model in TensorFlow to predict if a cell sample is cancerous based on 9 features. "
   ]
  },
  {
   "cell_type": "code",
   "execution_count": 35,
   "metadata": {},
   "outputs": [],
   "source": [
    "#Creat placeholders\n",
    "def create_placeholders():\n",
    "    X = tf.placeholder(tf.float32, shape = (None, 9))\n",
    "    Y = tf.placeholder(tf.float32, shape = (None, 1))\n",
    "    return X, Y"
   ]
  },
  {
   "cell_type": "code",
   "execution_count": 36,
   "metadata": {},
   "outputs": [
    {
     "name": "stdout",
     "output_type": "stream",
     "text": [
      "X = Tensor(\"Placeholder:0\", shape=(?, 9), dtype=float32)\n",
      "Y = Tensor(\"Placeholder_1:0\", shape=(?, 1), dtype=float32)\n"
     ]
    }
   ],
   "source": [
    "X, Y = create_placeholders()\n",
    "print(\"X = \" + str(X))\n",
    "print(\"Y = \" + str(Y))"
   ]
  },
  {
   "cell_type": "code",
   "execution_count": 37,
   "metadata": {},
   "outputs": [],
   "source": [
    "# initialize parameters\n",
    "def initialize_parameters():\n",
    "   \n",
    "    tf.set_random_seed(1)\n",
    "    W = tf.Variable(tf.zeros([9,1]))\n",
    "    b = tf.Variable(tf.zeros([1,1]))\n",
    "    \n",
    "    parameters = {\"W\": W,\n",
    "                  \"b\": b}\n",
    "    return parameters"
   ]
  },
  {
   "cell_type": "code",
   "execution_count": 38,
   "metadata": {},
   "outputs": [
    {
     "name": "stdout",
     "output_type": "stream",
     "text": [
      "W =  <tf.Variable 'Variable:0' shape=(9, 1) dtype=float32_ref>\n",
      "b =  <tf.Variable 'Variable_1:0' shape=(1, 1) dtype=float32_ref>\n"
     ]
    }
   ],
   "source": [
    "# test the parameters \n",
    "tf.reset_default_graph()\n",
    "with tf.Session() as sess_test:\n",
    "    parameters = initialize_parameters()\n",
    "    init = tf.global_variables_initializer()\n",
    "    sess_test.run(init)\n",
    "    print(\"W = \", parameters[\"W\"])\n",
    "    print(\"b = \", parameters[\"b\"])"
   ]
  },
  {
   "cell_type": "code",
   "execution_count": 39,
   "metadata": {},
   "outputs": [],
   "source": [
    "# forward propagation function\n",
    "def forward_propagation(X, parameters):\n",
    "    W = parameters[\"W\"]\n",
    "    b = parameters[\"b\"]\n",
    "    \n",
    "    Z = tf.matmul(X, W) + b\n",
    "    return Z"
   ]
  },
  {
   "cell_type": "code",
   "execution_count": 40,
   "metadata": {},
   "outputs": [],
   "source": [
    "# cost computation function, the activation function is sigmoid here\n",
    "def compute_cost(Z, Y):\n",
    "    cost = tf.reduce_mean(tf.nn.sigmoid_cross_entropy_with_logits(logits = Z, labels = Y))\n",
    "    return cost"
   ]
  },
  {
   "cell_type": "code",
   "execution_count": 41,
   "metadata": {},
   "outputs": [],
   "source": [
    "# model function, model parameters are saved for later prediction use\n",
    "def model(X_train, Y_train, X_validation, Y_validation, learning_rate = 1e-4,\n",
    "          num_epochs = 100, minibatch_size = 64, print_cost = True):\n",
    "\n",
    "    tf.reset_default_graph()\n",
    "    tf.set_random_seed(1)\n",
    "    seed = 3\n",
    "    \n",
    "    train_costs = []\n",
    "    val_costs = []\n",
    "    train_accs = []\n",
    "    val_accs = []\n",
    "    \n",
    "    X, Y = create_placeholders()\n",
    "    parameters = initialize_parameters()\n",
    "    Z = forward_propagation(X, parameters)\n",
    "    cost = compute_cost(Z, Y)\n",
    "    \n",
    "    # Calculate the correct predictions\n",
    "    predict_op = tf.round(tf.sigmoid(Z))\n",
    "    correct_prediction = tf.equal(predict_op, Y)\n",
    "\n",
    "    # Calculate accuracy on the data set\n",
    "    accuracy = tf.reduce_mean(tf.cast(correct_prediction, \"float\"))\n",
    "    optimizer = tf.train.GradientDescentOptimizer(learning_rate).minimize(cost)\n",
    "\n",
    "    saver = tf.train.Saver(tf.global_variables())\n",
    "    init = tf.global_variables_initializer()\n",
    "    with tf.Session() as sess:\n",
    "\n",
    "        sess.run(init)\n",
    "        for epoch in range(num_epochs):      \n",
    "            _, train_cost = sess.run([optimizer,cost], feed_dict={X:train_X, Y:train_Y})\n",
    "            train_costs.append(train_cost)\n",
    "            val_cost = sess.run(cost, feed_dict = {X: X_validation, Y: Y_validation})\n",
    "            val_costs.append(val_cost)\n",
    "            train_acc = accuracy.eval({X: X_train, Y: Y_train})\n",
    "            val_acc = accuracy.eval({X: X_validation, Y: Y_validation})\n",
    "            train_accs.append(train_acc)\n",
    "            val_accs.append(val_acc)\n",
    "            # Print the cost every epoch\n",
    "            if print_cost == True and epoch % 100 == 0:\n",
    "                print (\"Train/Validation cost after epoch %i: %f/%f. Train/Validation Accuracy: %f/%f\" \n",
    "                       % (epoch, train_cost, val_cost, train_acc, val_acc))   \n",
    "        saver.save(sess, './lr_1layer/lr_1layer_'+str(learning_rate))\n",
    "        return train_costs, val_costs, train_accs, val_accs"
   ]
  },
  {
   "cell_type": "code",
   "execution_count": 42,
   "metadata": {},
   "outputs": [],
   "source": [
    "# Randomly split data set into train and validation by ratio of 80% and 20%\n",
    "def train_validation_split(X, Y, rate = 0.2):\n",
    "    seed = 0\n",
    "    np.random.seed(seed)\n",
    "    m = X.shape[0]\n",
    "    permutation = list(np.random.permutation(m))\n",
    "    shuffled_X = X[permutation,:]\n",
    "    shuffled_Y = Y[permutation,:]\n",
    "    split = int(m - m * rate)\n",
    "    X_train = shuffled_X[:split,:]\n",
    "    Y_train = shuffled_Y[:split,:]\n",
    "    X_validation = shuffled_X[split:,:]\n",
    "    Y_validation = shuffled_Y[split:,:]\n",
    "    return X_train, Y_train, X_validation,Y_validation"
   ]
  },
  {
   "cell_type": "code",
   "execution_count": 43,
   "metadata": {},
   "outputs": [
    {
     "data": {
      "text/plain": [
       "(683, 9)"
      ]
     },
     "execution_count": 43,
     "metadata": {},
     "output_type": "execute_result"
    }
   ],
   "source": [
    "train_X.shape"
   ]
  },
  {
   "cell_type": "code",
   "execution_count": 44,
   "metadata": {},
   "outputs": [],
   "source": [
    "train_Y = np.reshape(train_Y,(len(train_Y),1))"
   ]
  },
  {
   "cell_type": "code",
   "execution_count": 45,
   "metadata": {},
   "outputs": [
    {
     "data": {
      "text/plain": [
       "(683, 1)"
      ]
     },
     "execution_count": 45,
     "metadata": {},
     "output_type": "execute_result"
    }
   ],
   "source": [
    "train_Y.shape"
   ]
  },
  {
   "cell_type": "code",
   "execution_count": 94,
   "metadata": {},
   "outputs": [
    {
     "name": "stdout",
     "output_type": "stream",
     "text": [
      "number of training examples = 546\n",
      "X_train shape: (546, 9)\n",
      "Y_train shape: (546, 1)\n",
      "number of validation examples = 137\n",
      "X_validation shape: (137, 9)\n",
      "Y_valiation shape: (137, 1)\n"
     ]
    }
   ],
   "source": [
    "X_train,Y_train,X_validation,Y_validation = train_validation_split(train_X, train_Y, rate=0.2)\n",
    "print (\"number of training examples = \" + str(X_train.shape[0]))\n",
    "print (\"X_train shape: \" + str(X_train.shape))\n",
    "print (\"Y_train shape: \" + str(Y_train.shape))\n",
    "print (\"number of validation examples = \" + str(X_validation.shape[0]))\n",
    "print (\"X_validation shape: \" + str(X_validation.shape))\n",
    "print (\"Y_valiation shape: \" + str(Y_validation.shape))"
   ]
  },
  {
   "cell_type": "code",
   "execution_count": 95,
   "metadata": {},
   "outputs": [
    {
     "name": "stdout",
     "output_type": "stream",
     "text": [
      "Train/Validation cost after epoch 0: 0.693147/0.720672. Train/Validation Accuracy: 0.346154/0.364964\n",
      "Train/Validation cost after epoch 100: 0.264783/0.225966. Train/Validation Accuracy: 0.937729/0.941606\n",
      "Train/Validation cost after epoch 200: 0.214281/0.182264. Train/Validation Accuracy: 0.946886/0.956204\n",
      "Train/Validation cost after epoch 300: 0.184364/0.158955. Train/Validation Accuracy: 0.954212/0.963504\n",
      "Train/Validation cost after epoch 400: 0.164061/0.143846. Train/Validation Accuracy: 0.957875/0.963504\n",
      "Train/Validation cost after epoch 500: 0.149432/0.133188. Train/Validation Accuracy: 0.957875/0.978102\n",
      "Train/Validation cost after epoch 600: 0.138456/0.125268. Train/Validation Accuracy: 0.961538/0.978102\n",
      "Train/Validation cost after epoch 700: 0.129959/0.119159. Train/Validation Accuracy: 0.963370/0.978102\n",
      "Train/Validation cost after epoch 800: 0.123210/0.114314. Train/Validation Accuracy: 0.965201/0.978102\n",
      "Train/Validation cost after epoch 900: 0.117737/0.110385. Train/Validation Accuracy: 0.968864/0.978102\n",
      "Train/Validation cost after epoch 1000: 0.113220/0.107142. Train/Validation Accuracy: 0.968864/0.978102\n",
      "Train/Validation cost after epoch 1100: 0.109435/0.104426. Train/Validation Accuracy: 0.968864/0.978102\n",
      "Train/Validation cost after epoch 1200: 0.106225/0.102122. Train/Validation Accuracy: 0.968864/0.970803\n",
      "Train/Validation cost after epoch 1300: 0.103471/0.100148. Train/Validation Accuracy: 0.968864/0.970803\n",
      "Train/Validation cost after epoch 1400: 0.101086/0.098442. Train/Validation Accuracy: 0.968864/0.970803\n",
      "Train/Validation cost after epoch 1500: 0.099004/0.096956. Train/Validation Accuracy: 0.968864/0.970803\n",
      "Train/Validation cost after epoch 1600: 0.097173/0.095652. Train/Validation Accuracy: 0.968864/0.970803\n",
      "Train/Validation cost after epoch 1700: 0.095552/0.094502. Train/Validation Accuracy: 0.968864/0.970803\n",
      "Train/Validation cost after epoch 1800: 0.094108/0.093482. Train/Validation Accuracy: 0.968864/0.963504\n",
      "Train/Validation cost after epoch 1900: 0.092815/0.092572. Train/Validation Accuracy: 0.968864/0.963504\n"
     ]
    }
   ],
   "source": [
    "costs, val_costs, train_accs, val_accs = model(X_train, Y_train, X_validation, Y_validation, learning_rate = 0.1, num_epochs = 2000)"
   ]
  },
  {
   "cell_type": "markdown",
   "metadata": {},
   "source": [
    "After running the model, I plot the cost function and prediction accuracy here"
   ]
  },
  {
   "cell_type": "code",
   "execution_count": 48,
   "metadata": {},
   "outputs": [
    {
     "data": {
      "image/png": "[encoded data removed]",
      "text/plain": [
       "<Figure size 432x288 with 1 Axes>"
      ]
     },
     "metadata": {
      "needs_background": "light"
     },
     "output_type": "display_data"
    },
    {
     "data": {
      "image/png": "[encoded data removed]",
      "text/plain": [
       "<Figure size 432x288 with 1 Axes>"
      ]
     },
     "metadata": {
      "needs_background": "light"
     },
     "output_type": "display_data"
    }
   ],
   "source": [
    "# plot the cost and accuracy\n",
    "learning_rate = 0.1\n",
    "plt.plot(np.squeeze(costs), '-b', label = 'Training cost')\n",
    "plt.plot(np.squeeze(val_costs),'-g', label ='Validation cost')\n",
    "plt.legend(loc = 'lower right', frameon = False)\n",
    "plt.ylabel('cost')\n",
    "plt.xlabel('iterations')\n",
    "plt.title(\"Learning rate =\" + str(learning_rate))\n",
    "plt.show()\n",
    "\n",
    "plt.plot(train_accs,'-b', label='Training accuracy')\n",
    "plt.plot(val_accs,'-g', label='Validation accuracy')\n",
    "plt.legend(loc='lower right', frameon=False)\n",
    "plt.ylim\n",
    "plt.ylabel('accuracy')\n",
    "plt.xlabel('iterations')\n",
    "plt.show()"
   ]
  },
  {
   "cell_type": "markdown",
   "metadata": {},
   "source": [
    "Test preformance at different learning rate"
   ]
  },
  {
   "cell_type": "code",
   "execution_count": 49,
   "metadata": {},
   "outputs": [
    {
     "name": "stdout",
     "output_type": "stream",
     "text": [
      "Training is started for learning_rate 10.0\n",
      "Training is finished for learning_rate 10.0\n",
      "Training is started for learning_rate 1.0\n",
      "Training is finished for learning_rate 1.0\n",
      "Training is started for learning_rate 0.1\n",
      "Training is finished for learning_rate 0.1\n",
      "Training is started for learning_rate 0.01\n",
      "Training is finished for learning_rate 0.01\n",
      "Training is started for learning_rate 0.001\n",
      "Training is finished for learning_rate 0.001\n",
      "Training is started for learning_rate 0.0001\n",
      "Training is finished for learning_rate 0.0001\n",
      "Training is started for learning_rate 1e-05\n",
      "Training is finished for learning_rate 1e-05\n"
     ]
    }
   ],
   "source": [
    "train_costs = np.zeros(7)\n",
    "validation_costs = np.zeros(7)\n",
    "train_accuracy = np.zeros(7)\n",
    "validation_accuracy = np.zeros(7)\n",
    "learning_rate = np.logspace(1, -5, num=7)\n",
    "for i in range(7):\n",
    "    print(\"Training is started for learning_rate \" + str(learning_rate[i]))\n",
    "    costs, val_costs, train_accs, val_accs = model(X_train, Y_train, X_validation, Y_validation,\n",
    "                                                   learning_rate=learning_rate[i], num_epochs = 2000, print_cost = False)\n",
    "    train_costs[i] = costs[-1]\n",
    "    validation_costs[i] = val_costs[-1]\n",
    "    train_accuracy[i] = train_accs[-1]\n",
    "    validation_accuracy[i] = val_accs[-1]\n",
    "    print(\"Training is finished for learning_rate \" + str(learning_rate[i]))"
   ]
  },
  {
   "cell_type": "code",
   "execution_count": 50,
   "metadata": {},
   "outputs": [
    {
     "data": {
      "image/png": "[encoded data removed]",
      "text/plain": [
       "<Figure size 432x288 with 1 Axes>"
      ]
     },
     "metadata": {
      "needs_background": "light"
     },
     "output_type": "display_data"
    },
    {
     "data": {
      "image/png": "[encoded data removed]",
      "text/plain": [
       "<Figure size 432x288 with 1 Axes>"
      ]
     },
     "metadata": {
      "needs_background": "light"
     },
     "output_type": "display_data"
    }
   ],
   "source": [
    "# plot the cost and accuracy for differnt learning rate\n",
    "plt.plot(learning_rate, np.squeeze(train_costs), '-b', label = 'Training cost')\n",
    "plt.plot(learning_rate, np.squeeze(validation_costs),'-g', label ='Validation cost')\n",
    "plt.xscale('log')\n",
    "plt.legend(loc = 'upper right', frameon = False)\n",
    "plt.ylabel('cost')\n",
    "plt.xlabel('learning_rate')\n",
    "plt.title(\"Loss at differnt learning rate\")\n",
    "plt.show()\n",
    "\n",
    "plt.plot(learning_rate, train_accuracy,'-b', label='Training accuracy')\n",
    "plt.plot(learning_rate, validation_accuracy,'-g', label='Validation accuracy')\n",
    "plt.xscale('log')\n",
    "plt.legend(loc='lower right', frameon=False)\n",
    "plt.ylabel('accuracy')\n",
    "plt.xlabel('learning_rate')\n",
    "plt.show()"
   ]
  },
  {
   "cell_type": "markdown",
   "metadata": {},
   "source": [
    "It looks like the learning rate (0.1) I choose at first is good enough! Lucky!"
   ]
  },
  {
   "cell_type": "markdown",
   "metadata": {},
   "source": [
    "Now let me check the parameters in the saved model"
   ]
  },
  {
   "cell_type": "code",
   "execution_count": 64,
   "metadata": {},
   "outputs": [
    {
     "name": "stdout",
     "output_type": "stream",
     "text": [
      "INFO:tensorflow:Restoring parameters from ./lr_1layer/lr_1layer_0.1\n"
     ]
    }
   ],
   "source": [
    "# Load saved model for learning rate = 0.1 and make predictions for validation data set \n",
    "# (Here only Y_scores are output because we need to make ROC curve later)\n",
    "# Y_predict can be calculated by np.round(Y_scores)\n",
    "tf.reset_default_graph()\n",
    "\n",
    "X, Y = create_placeholders()\n",
    "parameters = initialize_parameters()\n",
    "Z = forward_propagation(X, parameters)\n",
    "# Calculate the predicted probabilities\n",
    "predict_op = tf.sigmoid(Z)\n",
    "saver = tf.train.Saver()\n",
    "with tf.Session() as sess1:\n",
    "    saver.restore(sess1,'./lr_1layer/lr_1layer_0.1')\n",
    "    W,b = sess1.run(tf.all_variables())\n",
    "    Y_scores = sess1.run(predict_op, feed_dict = {X: X_validation})"
   ]
  },
  {
   "cell_type": "code",
   "execution_count": 65,
   "metadata": {},
   "outputs": [
    {
     "data": {
      "text/plain": [
       "array([[ 0.22357956],\n",
       "       [ 0.20065327],\n",
       "       [ 0.2578529 ],\n",
       "       [ 0.1682994 ],\n",
       "       [-0.06525566],\n",
       "       [ 0.3502787 ],\n",
       "       [ 0.15065235],\n",
       "       [ 0.19544898],\n",
       "       [ 0.17989945]], dtype=float32)"
      ]
     },
     "execution_count": 65,
     "metadata": {},
     "output_type": "execute_result"
    }
   ],
   "source": [
    "W"
   ]
  },
  {
   "cell_type": "code",
   "execution_count": 66,
   "metadata": {},
   "outputs": [
    {
     "data": {
      "text/plain": [
       "array([[-5.974654]], dtype=float32)"
      ]
     },
     "execution_count": 66,
     "metadata": {},
     "output_type": "execute_result"
    }
   ],
   "source": [
    "b"
   ]
  },
  {
   "cell_type": "markdown",
   "metadata": {},
   "source": [
    "The parameters for feature \"Clump Thickness\", \"Uniformity of Cell Shape\",\"Bare Nuclei\" are larger than others. The parameter for \"Single Epithelial Cell Size\" are smallest."
   ]
  },
  {
   "cell_type": "markdown",
   "metadata": {},
   "source": [
    "## 3. Validation\n",
    "### Confusion Matrix\n",
    "let me plot the confusion matrix here to see the validation results"
   ]
  },
  {
   "cell_type": "code",
   "execution_count": 73,
   "metadata": {},
   "outputs": [],
   "source": [
    "from matplotlib.backends.backend_agg import FigureCanvasAgg as FigureCanvas\n",
    "from matplotlib.figure import Figure\n",
    "import matplotlib.pyplot as plt\n",
    "import re\n",
    "import textwrap\n",
    "import itertools\n",
    "def plot_confusion_matrix(cm, labels):\n",
    "    '''\n",
    "    :param cm: A confusion matrix: A square ```numpy array``` of the same size as self.labels\n",
    "    :return:  A ``matplotlib.figure.Figure`` object with a numerical and graphical representation of the cm array\n",
    "    '''\n",
    "    numClasses = len(labels)\n",
    "    \n",
    "    fig = Figure(figsize=(numClasses, numClasses), dpi=100, facecolor='w', edgecolor='k')\n",
    "    canvas = FigureCanvas(fig)\n",
    "    ax = fig.add_subplot(1, 1, 1)\n",
    "    ax.imshow(cm, cmap='Oranges')\n",
    "\n",
    "    classes = [re.sub(r'([a-z](?=[A-Z])|[A-Z](?=[A-Z][a-z]))', r'\\1 ', x) for x in labels]\n",
    "    classes = ['\\n'.join(textwrap.wrap(l, 20)) for l in classes]\n",
    "\n",
    "    tick_marks = np.arange(len(classes))\n",
    "\n",
    "    ax.set_xlabel('Predicted')\n",
    "    ax.set_xticks(tick_marks)\n",
    "    ax.set_xticklabels(classes, rotation=-90, ha='center')\n",
    "    ax.xaxis.set_label_position('bottom')\n",
    "    ax.xaxis.tick_bottom()\n",
    "\n",
    "    ax.set_ylabel('True Label')\n",
    "    ax.set_yticks(tick_marks)\n",
    "    ax.set_yticklabels(classes, va='center')\n",
    "    ax.yaxis.set_label_position('left')\n",
    "    ax.yaxis.tick_left()\n",
    "\n",
    "    for i, j in itertools.product(range(numClasses), range(numClasses)):\n",
    "        ax.text(j, i, int(cm[i, j]) if cm[i, j] != 0 else '.', horizontalalignment=\"center\", verticalalignment='center', color=\"black\")\n",
    "    fig.set_tight_layout(True)\n",
    "    return fig"
   ]
  },
  {
   "cell_type": "code",
   "execution_count": 74,
   "metadata": {},
   "outputs": [
    {
     "data": {
      "image/png": "[encoded data removed]",
      "text/plain": [
       "<Figure size 200x200 with 1 Axes>"
      ]
     },
     "execution_count": 74,
     "metadata": {},
     "output_type": "execute_result"
    }
   ],
   "source": [
    "from sklearn.metrics import confusion_matrix\n",
    "Y_predict = np.round(Y_scores)\n",
    "cm = confusion_matrix(Y_validation, Y_predict)\n",
    "labels = [\"0\",\"1\"]\n",
    "fig = plot_confusion_matrix(cm,labels)\n",
    "fig"
   ]
  },
  {
   "cell_type": "markdown",
   "metadata": {},
   "source": [
    "From the Confusion Matrix, I can find that the Precision is 0.96 and the Recall is 0.94."
   ]
  },
  {
   "cell_type": "code",
   "execution_count": 80,
   "metadata": {},
   "outputs": [
    {
     "name": "stdout",
     "output_type": "stream",
     "text": [
      "0.995\n"
     ]
    },
    {
     "data": {
      "image/png": "[encoded data removed]",
      "text/plain": [
       "<Figure size 432x288 with 1 Axes>"
      ]
     },
     "metadata": {
      "needs_background": "light"
     },
     "output_type": "display_data"
    }
   ],
   "source": [
    "from sklearn.metrics import roc_curve, auc\n",
    "fpr, tpr, thresholds = roc_curve(Y_validation,Y_scores)\n",
    "roc_auc=auc(fpr, tpr)\n",
    "print(\"%0.3f\" % roc_auc)\n",
    "plt.title('Receiver Operating Characteristic')\n",
    "plt.plot(fpr, tpr, 'b', label = 'AUC = %0.3f' % roc_auc)\n",
    "plt.legend(loc = 'lower right')\n",
    "plt.plot([0, 1], [0, 1],'r--')\n",
    "plt.ylabel('True Positive Rate')\n",
    "plt.xlabel('False Positive Rate')\n",
    "plt.show()"
   ]
  },
  {
   "cell_type": "code",
   "execution_count": 83,
   "metadata": {},
   "outputs": [
    {
     "data": {
      "text/plain": [
       "array([0.        , 0.        , 0.        , 0.01149425, 0.01149425,\n",
       "       0.02298851, 0.02298851, 0.20689655, 0.22988506, 0.33333333,\n",
       "       0.35632184, 0.4137931 , 0.45977011, 0.47126437, 0.50574713,\n",
       "       0.51724138, 0.56321839, 0.62068966, 0.64367816, 0.66666667,\n",
       "       0.70114943, 0.73563218, 0.7816092 , 0.79310345, 0.83908046,\n",
       "       0.87356322, 0.88505747, 0.94252874, 0.95402299, 1.        ])"
      ]
     },
     "execution_count": 83,
     "metadata": {},
     "output_type": "execute_result"
    }
   ],
   "source": [
    "fpr"
   ]
  },
  {
   "cell_type": "code",
   "execution_count": 85,
   "metadata": {},
   "outputs": [
    {
     "data": {
      "text/plain": [
       "array([0.  , 0.02, 0.64, 0.64, 0.94, 0.94, 1.  , 1.  , 1.  , 1.  , 1.  ,\n",
       "       1.  , 1.  , 1.  , 1.  , 1.  , 1.  , 1.  , 1.  , 1.  , 1.  , 1.  ,\n",
       "       1.  , 1.  , 1.  , 1.  , 1.  , 1.  , 1.  , 1.  ])"
      ]
     },
     "execution_count": 85,
     "metadata": {},
     "output_type": "execute_result"
    }
   ],
   "source": [
    "tpr"
   ]
  },
  {
   "cell_type": "code",
   "execution_count": 86,
   "metadata": {},
   "outputs": [
    {
     "data": {
      "text/plain": [
       "array([1.9999409 , 0.9999409 , 0.96607155, 0.9458209 , 0.5903344 ,\n",
       "       0.54784775, 0.30390972, 0.0543964 , 0.05093025, 0.04049531,\n",
       "       0.03981516, 0.03317618, 0.03209426, 0.03077156, 0.02976565,\n",
       "       0.02896391, 0.02773023, 0.02254713, 0.0222984 , 0.0198165 ,\n",
       "       0.0192399 , 0.01822403, 0.01777652, 0.01715859, 0.01667226,\n",
       "       0.01544474, 0.01532852, 0.01437411, 0.01374875, 0.01238874],\n",
       "      dtype=float32)"
      ]
     },
     "execution_count": 86,
     "metadata": {},
     "output_type": "execute_result"
    }
   ],
   "source": [
    "thresholds"
   ]
  },
  {
   "cell_type": "markdown",
   "metadata": {},
   "source": [
    "From the ROC curve, I can find that if I lower the threshold from 0.5 to ~0.3, we can get a high True Positive Rate of 1. and a low False Positive Rate 0.02. Then the model doesn't miss any true cancerous cell samples which is important in medical decision."
   ]
  },
  {
   "cell_type": "markdown",
   "metadata": {},
   "source": [
    "## 4. Summary\n",
    "In this report, I used a logistic regression model to predict if a cell sample is cancerous by its 9 features. The model works with a accuracy of 96.4%."
   ]
  }
 ],
 "metadata": {
  "kernelspec": {
   "display_name": "Python 3",
   "language": "python",
   "name": "python3"
  },
  "language_info": {
   "codemirror_mode": {
    "name": "ipython",
    "version": 3
   },
   "file_extension": ".py",
   "mimetype": "text/x-python",
   "name": "python",
   "nbconvert_exporter": "python",
   "pygments_lexer": "ipython3",
   "version": "3.6.4"
  }
 },
 "nbformat": 4,
 "nbformat_minor": 2
}
